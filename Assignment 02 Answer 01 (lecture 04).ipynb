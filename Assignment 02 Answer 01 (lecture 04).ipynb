{
 "cells": [
  {
   "cell_type": "markdown",
   "metadata": {},
   "source": [
    "# 1. Write a program that repeatedly asks the user to enter product names and prices. Store all of these in a dictionary whose keys are the product names and whose values are the prices. When the user is done entering products and prices, allow them to repeatedly enter a product name and print the corresponding price or a message if the product is not in the dictionary."
   ]
  },
  {
   "cell_type": "code",
   "execution_count": 1,
   "metadata": {},
   "outputs": [
    {
     "name": "stdout",
     "output_type": "stream",
     "text": [
      "Enter product name: pOne\n",
      "Enter price: 300\n",
      "Do you want to insert again in the dictonary(y/n): y\n",
      "Enter product name: pTwo\n",
      "Enter price: 309\n",
      "Do you want to insert again in the dictonary(y/n): n\n",
      "\\All keys and values are inserted successfuly\n",
      "\n",
      "\n",
      "If you want to terminate the program, type 'end'\n",
      "Enter the product name: end\n",
      "\n",
      "The program ended\n"
     ]
    }
   ],
   "source": [
    "dict = {} #epmty dictionary\n",
    "\n",
    "while True: # \n",
    "    key = raw_input(\"Enter product name: \") #input product name\n",
    "    value = input(\"Enter price: \") #product price\n",
    "    dict[key] = value\n",
    "    ch = raw_input(\"Do you want to insert again in the dictonary(y/n): \")\n",
    "    if ch == \"n\": #means no\n",
    "        print(\"\\All keys and values are inserted successfuly\\n\")\n",
    "        break\n",
    "    else:\n",
    "        ch ==\"y\" #means yes with continueing insertion\n",
    "while True:\n",
    "    print \"\\nIf you want to terminate the program, type 'end'\"\n",
    "    key = raw_input(\"Enter the product name: \")\n",
    "    if key in dict:\n",
    "        print \"The price of \"'\"' , key, '\"'\" is \", dict[key]\n",
    "#product name\n",
    "    elif key== \"end\":\n",
    "        print \"\\nThe program ended\"\n",
    "        break\n",
    "    else:\n",
    "        print '\"', key, '\"' \"is not in the dictonary\""
   ]
  },
  {
   "cell_type": "code",
   "execution_count": null,
   "metadata": {},
   "outputs": [],
   "source": []
  }
 ],
 "metadata": {
  "kernelspec": {
   "display_name": "Python 2",
   "language": "python",
   "name": "python2"
  },
  "language_info": {
   "codemirror_mode": {
    "name": "ipython",
    "version": 2
   },
   "file_extension": ".py",
   "mimetype": "text/x-python",
   "name": "python",
   "nbconvert_exporter": "python",
   "pygments_lexer": "ipython2",
   "version": "2.7.15"
  }
 },
 "nbformat": 4,
 "nbformat_minor": 2
}
