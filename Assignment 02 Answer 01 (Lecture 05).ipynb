{
 "cells": [
  {
   "cell_type": "markdown",
   "metadata": {},
   "source": [
    "# 01.Write a program that uses a while loop (not a for loop) to read through a string and print the characters of the string one-by-one on separate lines.\n",
    "\n",
    "Modify the program above to print out every second character of the string."
   ]
  },
  {
   "cell_type": "code",
   "execution_count": 12,
   "metadata": {},
   "outputs": [
    {
     "name": "stdout",
     "output_type": "stream",
     "text": [
      "N\n",
      "a\n",
      "f\n",
      "i\n",
      "u\n",
      " \n",
      "N\n",
      "u\n",
      "r\n",
      " \n",
      "R\n",
      "a\n",
      "s\n",
      "h\n",
      "i\n",
      "d\n"
     ]
    }
   ],
   "source": [
    "dipt = 0\n",
    "debo = 'Nafiu Nur Rashid'\n",
    "while dipt < len(debo):\n",
    "    print debo[dipt]\n",
    "    dipt += 1"
   ]
  },
  {
   "cell_type": "code",
   "execution_count": null,
   "metadata": {},
   "outputs": [],
   "source": []
  },
  {
   "cell_type": "code",
   "execution_count": null,
   "metadata": {},
   "outputs": [],
   "source": []
  }
 ],
 "metadata": {
  "kernelspec": {
   "display_name": "Python 2",
   "language": "python",
   "name": "python2"
  },
  "language_info": {
   "codemirror_mode": {
    "name": "ipython",
    "version": 2
   },
   "file_extension": ".py",
   "mimetype": "text/x-python",
   "name": "python",
   "nbconvert_exporter": "python",
   "pygments_lexer": "ipython2",
   "version": "2.7.15"
  }
 },
 "nbformat": 4,
 "nbformat_minor": 2
}
