{
 "cells": [
  {
   "cell_type": "markdown",
   "metadata": {},
   "source": [
    "# 03.Write a program that uses a dictionary that contains ten user names and passwords. The program should ask the user to enter their username and password. If the username is not in the dictionary, the program should indicate that the person is not a valid user of the system. If the username is in the dictionary, but the user does not enter the right password, the program should say that the password is invalid. If the password is correct, then the program should tell the user that they are now logged in to the system."
   ]
  },
  {
   "cell_type": "code",
   "execution_count": 12,
   "metadata": {},
   "outputs": [
    {
     "name": "stdout",
     "output_type": "stream",
     "text": [
      "Enter username: rafid\n",
      "Enter password: 1234\n",
      "The Password is Invalid\n",
      "Enter username: rifat\n",
      "Enter password: 1325\n",
      "\n",
      "Successfully logged into the system.\n"
     ]
    }
   ],
   "source": [
    "userpassword = {'rifat' : 1325, 'rafid' :2011, 'debo' :1050, 'palash' :2890,'pias' :2856, \n",
    "                                          'dipto' :1049, 'navid' :1994, 'numan' :1993, 'shykat' :1998, 'asraf' :1976}\n",
    "while True:\n",
    "    user = raw_input(\"Enter username: \") # input username\n",
    "    if user not in userpassword:\n",
    "        print \"The person is not a valid user of the system.\"\n",
    "        break\n",
    "    pas = input(\"Enter password: \") # input password\n",
    "\n",
    "    if user in userpassword and pas == userpassword[user]:\n",
    "        print \"\\nSuccessfully logged into the system.\"\n",
    "        break\n",
    "    else:\n",
    "        print \"The Password is Invalid\""
   ]
  },
  {
   "cell_type": "code",
   "execution_count": null,
   "metadata": {},
   "outputs": [],
   "source": []
  }
 ],
 "metadata": {
  "kernelspec": {
   "display_name": "Python 2",
   "language": "python",
   "name": "python2"
  },
  "language_info": {
   "codemirror_mode": {
    "name": "ipython",
    "version": 2
   },
   "file_extension": ".py",
   "mimetype": "text/x-python",
   "name": "python",
   "nbconvert_exporter": "python",
   "pygments_lexer": "ipython2",
   "version": "2.7.15"
  }
 },
 "nbformat": 4,
 "nbformat_minor": 2
}
